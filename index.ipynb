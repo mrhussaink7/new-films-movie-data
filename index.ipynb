{
 "cells": [
  {
   "cell_type": "markdown",
   "id": "50b84362-95c2-47c3-8006-95bab46a0a0f",
   "metadata": {
    "jp-MarkdownHeadingCollapsed": true
   },
   "source": [
    "### Step 1. Data Understanding\n",
    "- Dataframe `shape`\n",
    "- `head` and `tail`\n",
    "- `info`\n",
    "- `describe`"
   ]
  },
  {
   "cell_type": "code",
   "execution_count": 1,
   "id": "e62f00e7-7f49-46e2-894a-edd0c8e43e18",
   "metadata": {},
   "outputs": [
    {
     "ename": "NameError",
     "evalue": "name 'df_movie_gross' is not defined",
     "output_type": "error",
     "traceback": [
      "\u001b[0;31m---------------------------------------------------------------------------\u001b[0m",
      "\u001b[0;31mNameError\u001b[0m                                 Traceback (most recent call last)",
      "Cell \u001b[0;32mIn[1], line 1\u001b[0m\n\u001b[0;32m----> 1\u001b[0m \u001b[43mdf_movie_gross\u001b[49m\u001b[38;5;241m.\u001b[39mshape\n",
      "\u001b[0;31mNameError\u001b[0m: name 'df_movie_gross' is not defined"
     ]
    }
   ],
   "source": [
    "df_movie_gross.shape"
   ]
  },
  {
   "cell_type": "code",
   "execution_count": null,
   "id": "186573fa-8b75-43c2-ad01-bfe17fb60f49",
   "metadata": {},
   "outputs": [],
   "source": [
    "df_movie_gross.head()"
   ]
  },
  {
   "cell_type": "code",
   "execution_count": null,
   "id": "589398fa-68d8-4822-8df1-105a07adc802",
   "metadata": {},
   "outputs": [],
   "source": [
    "df_movie_gross.info()"
   ]
  },
  {
   "cell_type": "code",
   "execution_count": null,
   "id": "4980b46f-b705-4305-96e3-b67a28cf416a",
   "metadata": {},
   "outputs": [],
   "source": [
    "df_movie_gross.describe()"
   ]
  },
  {
   "cell_type": "markdown",
   "id": "f4669a36-a6e4-43ea-ad9d-9b8df674c2de",
   "metadata": {
    "jp-MarkdownHeadingCollapsed": true
   },
   "source": [
    "### Step 2. Data Preparation\n",
    "- Dropping irrelevant columns and rows\n",
    "- Identifying duplicated columns\n",
    "- Renaming columns\n",
    "- Feature creation"
   ]
  },
  {
   "cell_type": "code",
   "execution_count": null,
   "id": "9dc8522b-bd08-4779-b5ed-8931c5df32f1",
   "metadata": {},
   "outputs": [],
   "source": [
    "df_movie_gross.columns"
   ]
  },
  {
   "cell_type": "code",
   "execution_count": null,
   "id": "fb40c76c-db84-44ec-bbe1-2ff786e0975b",
   "metadata": {},
   "outputs": [],
   "source": [
    "df_movie_gross = df_movie_gross[['title', #'studio', \n",
    "                                 'domestic_gross', 'foreign_gross', 'year']].copy()\n",
    "df_movie_gross"
   ]
  },
  {
   "cell_type": "code",
   "execution_count": null,
   "id": "3d245b88-42c1-4a0e-8cdc-e25bb9ec267c",
   "metadata": {},
   "outputs": [],
   "source": [
    "df_movie_gross.info()\n",
    "df_movie_gross.isna().sum()"
   ]
  },
  {
   "cell_type": "code",
   "execution_count": null,
   "id": "11dc365a-e4ff-4df5-a750-53f9afc794b9",
   "metadata": {},
   "outputs": [],
   "source": [
    "df_movie_gross.loc[df_movie_gross.duplicated(subset='title')]"
   ]
  },
  {
   "cell_type": "code",
   "execution_count": null,
   "id": "5e05b5da-3a3d-4beb-9861-31d12f0bb2d8",
   "metadata": {},
   "outputs": [],
   "source": [
    "df_movie_gross[df_movie_gross.title == 'Bluebeard']"
   ]
  },
  {
   "cell_type": "code",
   "execution_count": null,
   "id": "94a6b514-0e49-42c6-89ea-b00296dffc81",
   "metadata": {},
   "outputs": [],
   "source": [
    "df_movie_gross.isna().sum()"
   ]
  },
  {
   "cell_type": "code",
   "execution_count": null,
   "id": "b60bc5e7-ae4d-4f5d-85d0-a21e88e6dff9",
   "metadata": {},
   "outputs": [],
   "source": [
    "df_movie_gross[df_movie_gross.isnull().any(axis=1)]"
   ]
  },
  {
   "cell_type": "code",
   "execution_count": null,
   "id": "034a8ea7-3143-4d0f-9e36-6ae8fdd649a7",
   "metadata": {},
   "outputs": [],
   "source": [
    "# Drop null values\n",
    "df_movie_gross.dropna()"
   ]
  },
  {
   "cell_type": "code",
   "execution_count": null,
   "id": "a1724981-8ab9-4106-bccd-f3ad07ad3cd5",
   "metadata": {},
   "outputs": [],
   "source": [
    "df_movie_gross.info()"
   ]
  },
  {
   "cell_type": "code",
   "execution_count": null,
   "id": "fec97056-94d9-4e2d-9e43-89e7f1f35c9e",
   "metadata": {},
   "outputs": [],
   "source": [
    "df_movie_gross = df_movie_gross[['title', #'studio', \n",
    "                                 'domestic_gross', #'foreign_gross', \n",
    "                                 'year']].copy()\n",
    "df_movie_gross"
   ]
  },
  {
   "cell_type": "code",
   "execution_count": null,
   "id": "6549bffe-eb3c-4b24-abf4-f2598771f38b",
   "metadata": {},
   "outputs": [],
   "source": [
    "df_movie_gross = df_movie_gross.dropna().reset_index(drop=True)\n",
    "df_movie_gross.info()"
   ]
  },
  {
   "cell_type": "code",
   "execution_count": null,
   "id": "9efbb504-12db-4ec7-a6bf-ac91f721bd82",
   "metadata": {},
   "outputs": [],
   "source": [
    "df_movie_gross"
   ]
  },
  {
   "cell_type": "markdown",
   "id": "45761790-4b3a-4709-94f8-67742a3c89d8",
   "metadata": {
    "jp-MarkdownHeadingCollapsed": true
   },
   "source": [
    "### Step 3. Feature Understanding\n",
    "- Plotting Feature Distributions\n",
    "    - Histogram\n",
    "    - KDE\n",
    "    - Boxplot"
   ]
  },
  {
   "cell_type": "markdown",
   "id": "2dbdae7e-7224-4474-abe1-1cd91d524e3c",
   "metadata": {},
   "source": [
    "#### Bar Graph of Movies' Gross Revenues"
   ]
  },
  {
   "cell_type": "code",
   "execution_count": null,
   "id": "1de4fdaa-a317-42ca-9520-c9c6c043d0f8",
   "metadata": {},
   "outputs": [],
   "source": [
    "df_movie_gross.sort_values(by='domestic_gross', ascending=False).head(10)"
   ]
  },
  {
   "cell_type": "code",
   "execution_count": null,
   "id": "f0cae150-9519-4975-acdc-f1bea1b3d452",
   "metadata": {},
   "outputs": [],
   "source": [
    "ax = df_movie_gross.sort_values(by='domestic_gross', ascending=False).head(10) \\\n",
    "    .sort_values(by='domestic_gross', ascending=True) \\\n",
    "    .plot(kind='barh', x='title', y='domestic_gross', label='Domestic Gross')\n",
    "ax.set_title('Top 10 Domestically Grossing Films')\n",
    "ax.set_ylabel('Film Title', fontweight='bold')\n",
    "ax.set_xlabel('Domestic Gross Revenue (Hundred Million)', fontweight='bold')\n",
    "plt.show()"
   ]
  },
  {
   "cell_type": "markdown",
   "id": "7e5fe1a2-c661-48a2-959a-b3b504676c3b",
   "metadata": {},
   "source": [
    "#### Histograms of Movies' Gross Revenues"
   ]
  },
  {
   "cell_type": "code",
   "execution_count": null,
   "id": "c17bed7e-bb79-48ef-9675-37ef35b0a1b0",
   "metadata": {},
   "outputs": [],
   "source": [
    "def render_distribution_gross_revenue(ax, data=df_movie_gross, column='domestic_gross', boundary=200000000, direction='greater'):\n",
    "    if direction == 'greater':\n",
    "        sns.histplot(data=data[data[column] >= boundary][column], bins = 20, kde = True, ax=ax)\n",
    "        ax.set_title('Frequency of Domestic Gross Revenue Amongst Various Titles')\n",
    "        ax.set_xlabel(f'Film Domestic Gross Revenue Over ${boundary:,.0f}')\n",
    "        ax.set_ylabel('Frequency')\n",
    "    elif direction == 'lesser':\n",
    "        sns.histplot(data=data[data[column] <= boundary][column], bins = 20, kde = True, ax=ax)\n",
    "        ax.set_title('Frequency of Domestic Gross Revenue Amongst Various Titles')\n",
    "        ax.set_xlabel(f'Film Domestic Gross Revenue Under ${boundary:,.0f}')\n",
    "        ax.set_ylabel('Frequency')\n",
    "    plt.tight_layout()\n",
    "def render_kde_gross_revenue(ax, data=df_movie_gross, column='domestic_gross', boundary=200000000, direction='greater'):\n",
    "    if direction == 'greater':\n",
    "        sns.kdeplot(data=data[data[column] >= boundary][column], ax=ax)\n",
    "        ax.set_title('Frequency of Domestic Gross Revenue Amongst Various Titles')\n",
    "        ax.set_xlabel(f'Film Domestic Gross Revenue Over ${boundary:,.0f}')\n",
    "        ax.set_ylabel('Frequency')\n",
    "    elif direction == 'lesser':\n",
    "        sns.kdeplot(data=data[data[column] <= boundary][column], ax=ax)\n",
    "        ax.set_title('Frequency of Domestic Gross Revenue Amongst Various Titles')\n",
    "        ax.set_xlabel(f'Film Domestic Gross Revenue Under ${boundary:,.0f}')\n",
    "        ax.set_ylabel('Frequency')\n",
    "    plt.tight_layout()"
   ]
  },
  {
   "cell_type": "code",
   "execution_count": null,
   "id": "f2831a26-b818-45ed-a461-eaa2a64d788a",
   "metadata": {},
   "outputs": [],
   "source": [
    "fig, ((ax1, ax2),(ax3,ax4)) = plt.subplots(2,2, figsize=(16,10))\n",
    "render_distribution_gross_revenue(ax=ax1, boundary = 200000000, direction='greater')\n",
    "render_kde_gross_revenue(ax=ax2, boundary = 200000000, direction='greater')\n",
    "render_distribution_gross_revenue(ax=ax3, boundary=500000, direction='lesser')\n",
    "render_kde_gross_revenue(ax=ax4, boundary=500000, direction='lesser')"
   ]
  },
  {
   "cell_type": "markdown",
   "id": "86c979df-4e7a-45fb-9d05-b6f3f56521d8",
   "metadata": {},
   "source": [
    "#### Box Plot of Movies' Gross Revenues"
   ]
  },
  {
   "cell_type": "code",
   "execution_count": null,
   "id": "b048198a-aaec-47d4-a885-1841fa4092bb",
   "metadata": {},
   "outputs": [],
   "source": [
    "def render_boxplot_gross_revenue(ax=ax, data=df_movie_gross, column='domestic_gross', boundary=200000000, direction='greater'):\n",
    "    if direction == 'greater':\n",
    "        sns.boxplot(x=data[data[column] >= boundary][column], ax=ax)\n",
    "        ax.set_title('Frequency of Domestic Gross Revenue Amongst Various Titles')\n",
    "        ax.set_xlabel(f'Film Domestic Gross Revenue Over ${boundary:,.0f}')\n",
    "        ax.set_ylabel('Frequency')\n",
    "    elif direction == 'lesser':\n",
    "        sns.boxplot(x=data[data[column] <= boundary][column], ax=ax)\n",
    "        ax.set_title('Frequency of Domestic Gross Revenue Amongst Various Titles')\n",
    "        ax.set_xlabel(f'Film Domestic Gross Revenue Under ${boundary:,.0f}')\n",
    "        ax.set_ylabel('Frequency')\n",
    "    plt.tight_layout()"
   ]
  },
  {
   "cell_type": "code",
   "execution_count": null,
   "id": "ca1ddd55-6735-495a-a0a7-baf13b37d6a5",
   "metadata": {},
   "outputs": [],
   "source": [
    "fig, (ax1, ax2) = plt.subplots(1,2, figsize=(14,4))\n",
    "render_boxplot_gross_revenue(ax=ax1, boundary = 200000000, direction='greater')\n",
    "render_boxplot_gross_revenue(ax=ax2, boundary = 500000, direction='lesser')"
   ]
  },
  {
   "cell_type": "markdown",
   "id": "8e39b2eb-6e66-47bc-988f-99c3a9929607",
   "metadata": {
    "jp-MarkdownHeadingCollapsed": true
   },
   "source": [
    "### Step 4. Feature Relationships\n",
    "- Scatterplot\n",
    "- Heatmap Correlation\n",
    "- Pairplot\n",
    "- Groupby Comparisons"
   ]
  },
  {
   "cell_type": "code",
   "execution_count": null,
   "id": "600956a2-472a-4cc1-a073-6e7a5af79ff9",
   "metadata": {},
   "outputs": [],
   "source": [
    "sns.scatterplot(data=df_movie_gross, x='year', y='domestic_gross')\n",
    "plt.title('Domestic Gross Revenue by Year')\n",
    "plt.xlabel('Year Film Produced', fontweight='bold')\n",
    "plt.ylabel('Film Revenue (Hundred Million)', fontweight='bold')\n",
    "plt.show()"
   ]
  },
  {
   "cell_type": "code",
   "execution_count": null,
   "id": "ca930948-46be-47f7-bc14-82ea7b0a8289",
   "metadata": {},
   "outputs": [],
   "source": [
    "sns.pairplot(df_movie_gross, height=3, aspect=1.2)\n",
    "plt.title('Relationships Between Different Features', y = 2.1, x=0)\n",
    "plt.show()"
   ]
  },
  {
   "cell_type": "code",
   "execution_count": null,
   "id": "8b064ee9-b72d-4ada-bca1-f2d73881f4cc",
   "metadata": {},
   "outputs": [],
   "source": [
    "sns.heatmap(df_movie_gross[['domestic_gross','year']].corr(), annot=True)\n",
    "plt.title('Correlation Between Different Features')\n",
    "plt.show()"
   ]
  },
  {
   "cell_type": "markdown",
   "id": "876e50b6-0fcc-404f-aff8-fedaa450def8",
   "metadata": {
    "jp-MarkdownHeadingCollapsed": true
   },
   "source": [
    "### Step 5. Descriptive Questions About The Data\n",
    "- Try to ask and answer questions you have about the data using a plot or statistic."
   ]
  },
  {
   "cell_type": "code",
   "execution_count": null,
   "id": "db8bdfeb-570d-453a-97e8-d923c31ebeba",
   "metadata": {},
   "outputs": [],
   "source": [
    "df_movie_gross.head()"
   ]
  },
  {
   "cell_type": "markdown",
   "id": "0199f032-70b1-4ef6-abe5-5f4cee91eb2d",
   "metadata": {},
   "source": [
    "What is the total gross revenue by year?"
   ]
  },
  {
   "cell_type": "code",
   "execution_count": null,
   "id": "04fd3e69-8917-4c65-8c00-e78faab81323",
   "metadata": {},
   "outputs": [],
   "source": [
    "pd.set_option('display.float_format', '${:,.0f}'.format)\n",
    "total_gross = df_movie_gross.groupby('year')['domestic_gross'].agg(['sum','mean','count']).reset_index().copy()\n",
    "total_gross = total_gross.rename(columns={'year':'Year', 'sum':'Total_Revenue', 'mean':'Avg_Revenue','count':'Title_Counts'})\n",
    "total_gross"
   ]
  },
  {
   "cell_type": "code",
   "execution_count": null,
   "id": "f0562de7-6723-4723-b44a-ba087b68cb60",
   "metadata": {},
   "outputs": [],
   "source": [
    "def add_labels(ax, values):\n",
    "    for i, value in enumerate(values):\n",
    "        ax.text(i, value * 1.005, f'{value:,.0f}', va='center', ha='center', color='black', rotation=0, font='arial', fontsize=12, fontweight='bold')\n",
    "\n",
    "filtered_total_gross = total_gross[total_gross['Total_Revenue'] > 1000000000]\n",
    "fig, ax = plt.subplots(figsize=(14,6))\n",
    "ax = sns.barplot(x='Year', y='Total_Revenue', data=filtered_total_gross)\n",
    "add_labels(ax, filtered_total_gross['Total_Revenue'])\n",
    "plt.title('Total Domestic Gross Revenue by Year')\n",
    "plt.xlabel('Year Film Produced', fontweight='bold')\n",
    "plt.ylabel('Total Revenue Over $10,000,000,000', fontweight='bold')\n",
    "ax.set_ylim(10000000000, ax.get_ylim()[1])\n",
    "plt.show()"
   ]
  },
  {
   "cell_type": "markdown",
   "id": "c1a83102-280e-4386-b0b9-e681627d787b",
   "metadata": {
    "jp-MarkdownHeadingCollapsed": true
   },
   "source": [
    "Step 1. Data Understanding¶\n",
    "Dataframe shape\n",
    "head and tail\n",
    "info\n",
    "describe"
   ]
  },
  {
   "cell_type": "code",
   "execution_count": null,
   "id": "c24442c3-6d2f-463c-a8a7-a6af2ddcc2fb",
   "metadata": {},
   "outputs": [],
   "source": [
    "df_movie_info.shape"
   ]
  },
  {
   "cell_type": "code",
   "execution_count": null,
   "id": "8b96fed9-a68d-491c-bae6-be79aeff92b5",
   "metadata": {},
   "outputs": [],
   "source": [
    "df_movie_info"
   ]
  },
  {
   "cell_type": "code",
   "execution_count": null,
   "id": "a2e1ca34-eef4-48a1-a578-05d8c902355b",
   "metadata": {},
   "outputs": [],
   "source": [
    "df_movie_info.info()"
   ]
  },
  {
   "cell_type": "code",
   "execution_count": null,
   "id": "50ddc26f-503f-4284-aae5-8683a526c583",
   "metadata": {},
   "outputs": [],
   "source": [
    "df_movie_info[df_movie_info.box_office.notnull()]"
   ]
  },
  {
   "cell_type": "code",
   "execution_count": null,
   "id": "8fa168da-953e-465e-9d98-4960b6cb10e9",
   "metadata": {},
   "outputs": [],
   "source": [
    "FILTER = df_movie_info[df_movie_info['box_office'].notnull()]\n",
    "FILTER['revenue'] = FILTER['box_office'].str.replace(',', '').astype(int)\n",
    "FILTER"
   ]
  },
  {
   "cell_type": "code",
   "execution_count": null,
   "id": "4109a8ee-29b9-4736-8fc4-e404f8b3335b",
   "metadata": {
    "scrolled": true
   },
   "outputs": [],
   "source": [
    "df_movie_info = FILTER\n",
    "df_movie_info"
   ]
  },
  {
   "cell_type": "markdown",
   "id": "4f92e9c4-67b3-449b-be86-3962229c8e6b",
   "metadata": {
    "jp-MarkdownHeadingCollapsed": true
   },
   "source": [
    "### Step 2. Data Preparation\n",
    "- Dropping irrelevant columns and rows\n",
    "- Identifying duplicated columns\n",
    "- Renaming columns\n",
    "- Feature creation"
   ]
  },
  {
   "cell_type": "markdown",
   "id": "f1757ff0-c94e-426e-81ea-3c7007fc0293",
   "metadata": {},
   "source": [
    "### Step 3. Feature Understanding\n",
    "- Plotting Feature Distributions\n",
    "    - Histogram\n",
    "    - KDE\n",
    "    - Boxplot"
   ]
  },
  {
   "cell_type": "markdown",
   "id": "c439ac0a-0089-4e5e-8ca4-2b5f238c43f7",
   "metadata": {},
   "source": [
    "### Step 4. Feature Relationships\n",
    "- Scatterplot\n",
    "- Heatmap Correlation\n",
    "- Pairplot\n",
    "- Groupby Comparisons"
   ]
  },
  {
   "cell_type": "markdown",
   "id": "231822e7-b3b0-4a7b-afe8-bacf8c703444",
   "metadata": {},
   "source": [
    "### Step 5. Descriptive Questions About The Data\n",
    "- Try to ask and answer questions you have about the data using a plot or statistic."
   ]
  },
  {
   "cell_type": "code",
   "execution_count": null,
   "id": "ec3de26c-f62a-47f2-a63c-8b31773f20fb",
   "metadata": {},
   "outputs": [],
   "source": []
  },
  {
   "cell_type": "markdown",
   "id": "a24d3e71-77eb-4ebf-bee0-1ca375a92b01",
   "metadata": {},
   "source": [
    "# Recommending Films for Box Office Success!"
   ]
  },
  {
   "cell_type": "markdown",
   "id": "ba69e716-c162-4b06-8577-2b7f21006357",
   "metadata": {},
   "source": [
    "![image](https://vip-go.premiumbeat.com/wp-content/uploads/2022/02/vr_2.jpg)\n",
    "\n",
    "*Image by DOP Eben Bolter on the LED volume stage at Rebellion Film Studios in Oxford, UK.*"
   ]
  },
  {
   "cell_type": "markdown",
   "id": "1e05583a-2749-458f-98ba-81251821b8a2",
   "metadata": {},
   "source": [
    "# Background"
   ]
  },
  {
   "cell_type": "markdown",
   "id": "cb1bb46d-ff6d-4621-9c0a-6d83797b17e1",
   "metadata": {},
   "source": [
    "## Loading Tools and Data"
   ]
  },
  {
   "cell_type": "markdown",
   "id": "269ae24b-567d-4ea5-b85f-f0d23361810d",
   "metadata": {},
   "source": [
    "Import our data science tools."
   ]
  },
  {
   "cell_type": "code",
   "execution_count": null,
   "id": "74d13b1a-2053-444f-bd03-e73d9bd01a0d",
   "metadata": {},
   "outputs": [],
   "source": [
    "import itertools\n",
    "import numpy as np\n",
    "import pandas as pd \n",
    "from numbers import Number\n",
    "import sqlite3\n",
    "from scipy import stats\n",
    "import matplotlib.pyplot as plt\n",
    "import seaborn as sns\n",
    "import zipfile\n",
    "import os\n",
    "import warnings\n",
    "warnings.filterwarnings('ignore')\n",
    "plt.style.use('ggplot')\n",
    "pd.set_option('display.max_columns', 200)\n",
    "pd.set_option('display.float_format','{:.2f}'.format)"
   ]
  },
  {
   "cell_type": "markdown",
   "id": "07bf49e8-b221-451a-a5c3-34f5433d84a5",
   "metadata": {},
   "source": [
    "### IMDB - SQL Database"
   ]
  },
  {
   "cell_type": "code",
   "execution_count": null,
   "id": "0f0ddf75-85df-447a-b317-91895cbb8827",
   "metadata": {
    "scrolled": true
   },
   "outputs": [],
   "source": [
    "zip_path = 'zippedData/im.db.zip'\n",
    "extract_path = 'zippedData/'\n",
    "\n",
    "with zipfile.ZipFile(zip_path,'r') as zip_ref:\n",
    "    zip_ref.extractall(extract_path)\n",
    "\n",
    "db_path = os.path.join(extract_path, 'im.db')\n",
    "\n",
    "conn = sqlite3.connect(db_path)\n",
    "pd.read_sql(\"\"\"\n",
    "    SELECT *\n",
    "    FROM sqlite_master\n",
    "    WHERE type = 'table';\n",
    "\"\"\",conn)"
   ]
  },
  {
   "cell_type": "code",
   "execution_count": null,
   "id": "2e107ed1-1b27-488d-b125-ea4851740c38",
   "metadata": {},
   "outputs": [],
   "source": [
    "df_movie_basics = pd.read_sql(\"\"\"\n",
    "    SELECT *\n",
    "    FROM movie_basics;\n",
    "\"\"\",conn)\n",
    "\n",
    "df_directors = pd.read_sql(\"\"\"\n",
    "    SELECT *\n",
    "    FROM directors;\n",
    "\"\"\",conn)\n",
    "\n",
    "df_known_for = pd.read_sql(\"\"\"\n",
    "    SELECT *\n",
    "    FROM known_for;\n",
    "\"\"\",conn)\n",
    "\n",
    "df_movie_ratings = pd.read_sql(\"\"\"\n",
    "    SELECT *\n",
    "    FROM movie_ratings;\n",
    "\"\"\",conn)\n",
    "\n",
    "df_persons = pd.read_sql(\"\"\"\n",
    "    SELECT *\n",
    "    FROM persons;\n",
    "\"\"\",conn)\n",
    "\n",
    "df_writers = pd.read_sql(\"\"\"\n",
    "    SELECT *\n",
    "    FROM writers;\n",
    "\"\"\",conn)"
   ]
  },
  {
   "cell_type": "code",
   "execution_count": null,
   "id": "8e122b88-054d-4711-af16-e2385fbbc75a",
   "metadata": {},
   "outputs": [],
   "source": [
    "df_movie_basics"
   ]
  },
  {
   "cell_type": "code",
   "execution_count": null,
   "id": "6d7863a3-5b6e-4a54-93cd-77db6fbfb4e8",
   "metadata": {},
   "outputs": [],
   "source": [
    "df_directors"
   ]
  },
  {
   "cell_type": "code",
   "execution_count": null,
   "id": "872656b0-9c49-4806-92b7-647fa0265880",
   "metadata": {},
   "outputs": [],
   "source": [
    "df_known_for"
   ]
  },
  {
   "cell_type": "code",
   "execution_count": null,
   "id": "da5da2f6-e3ed-4c98-af00-a3a82524bc38",
   "metadata": {},
   "outputs": [],
   "source": [
    "df_movie_ratings"
   ]
  },
  {
   "cell_type": "code",
   "execution_count": null,
   "id": "49a25d95-84a3-486e-92ca-e9bbcb8a2e91",
   "metadata": {},
   "outputs": [],
   "source": [
    "df_persons"
   ]
  },
  {
   "cell_type": "code",
   "execution_count": null,
   "id": "78df4d2d-3940-457b-875e-3b7ebe3d616a",
   "metadata": {},
   "outputs": [],
   "source": [
    "df_writers"
   ]
  },
  {
   "cell_type": "markdown",
   "id": "e11728d3-a792-4fed-ad86-ff638de2ef01",
   "metadata": {},
   "source": [
    "### CSV Datasets"
   ]
  },
  {
   "cell_type": "code",
   "execution_count": null,
   "id": "26f88d7f-90b3-48f3-bbcb-753ca70f51a2",
   "metadata": {},
   "outputs": [],
   "source": [
    "df_bom_movie_gross = pd.read_csv('zippedData/bom.movie_gross.csv.gz')\n",
    "df_rt_movie_info = pd.read_csv('zippedData/rt.movie_info.tsv.gz', sep='\\t')\n",
    "df_rt_movie_reviews = pd.read_csv('zippedData/rt.reviews.tsv.gz', sep='\\t', encoding='latin1')\n",
    "df_tmdb_movies = pd.read_csv('zippedData/tmdb.movies.csv.gz')\n",
    "df_tn_movie_budgets = pd.read_csv('zippedData/tn.movie_budgets.csv.gz')"
   ]
  },
  {
   "cell_type": "code",
   "execution_count": null,
   "id": "391d1526-8fcf-4a2e-a073-b953ea04c4d9",
   "metadata": {},
   "outputs": [],
   "source": [
    "df_bom_movie_gross"
   ]
  },
  {
   "cell_type": "code",
   "execution_count": null,
   "id": "8d0fced0-d6ae-4ac8-a8f6-3d766b88df56",
   "metadata": {},
   "outputs": [],
   "source": [
    "df_rt_movie_info"
   ]
  },
  {
   "cell_type": "code",
   "execution_count": null,
   "id": "9572d057-c720-41ec-a6f4-f28999aded46",
   "metadata": {},
   "outputs": [],
   "source": [
    "df_rt_movie_reviews"
   ]
  },
  {
   "cell_type": "code",
   "execution_count": null,
   "id": "2b0cb944-e413-4eb1-b3c6-6278e84f8e40",
   "metadata": {},
   "outputs": [],
   "source": [
    "df_tmdb_movies"
   ]
  },
  {
   "cell_type": "code",
   "execution_count": null,
   "id": "3b0cc525-33ab-4c70-bee7-9692a5168e00",
   "metadata": {},
   "outputs": [],
   "source": [
    "df_tn_movie_budgets"
   ]
  },
  {
   "cell_type": "markdown",
   "id": "bcfb98a3-ef36-4a55-9adc-b0387fe79637",
   "metadata": {},
   "source": [
    "### New"
   ]
  },
  {
   "cell_type": "code",
   "execution_count": null,
   "id": "6965316a-6581-4069-9dd5-60d4f564ff8f",
   "metadata": {
    "scrolled": true
   },
   "outputs": [],
   "source": [
    "df_rt_movie_info = df_rt_movie_info[['id', 'synopsis', #'rating', \n",
    "                                     'genre', 'director', 'writer','theater_date', #'dvd_date', \n",
    "                                     'currency', 'box_office', #'runtime','studio'\n",
    "                                    ]]\n",
    "mask = df_rt_movie_info[df_rt_movie_info['box_office'].notnull()]\n",
    "mask['revenue'] = mask['box_office'].str.replace(',','').astype(int)\n",
    "# df_rt_merged = pd.merge(df_rt_movie_info, df_rt_movie_reviews, on='id', how='outer')\n",
    "# df_rt_merged\n",
    "# df_rt_movie_info.info()\n",
    "df_rt_movie_info['revenue'] = mask['revenue']\n",
    "df_rt_movie_info['revenue'].dropna()"
   ]
  },
  {
   "cell_type": "markdown",
   "id": "54a10871-3afa-43e2-9844-8a53b409a414",
   "metadata": {},
   "source": [
    "### New"
   ]
  },
  {
   "cell_type": "markdown",
   "id": "41920c7b-4188-4637-9dca-1bd578a125de",
   "metadata": {},
   "source": [
    "### New"
   ]
  },
  {
   "cell_type": "code",
   "execution_count": null,
   "id": "51dbf812-dae3-4297-a512-cb2b013b5f57",
   "metadata": {},
   "outputs": [],
   "source": [
    "try:\n",
    "    print('SUCCESS! All cells were executed without errors.')\n",
    "except:\n",
    "    print('FAILED! Error on indicated cell.')"
   ]
  },
  {
   "cell_type": "code",
   "execution_count": null,
   "id": "89034b42-1ba6-403a-9f5f-fa665a694a2a",
   "metadata": {},
   "outputs": [],
   "source": []
  }
 ],
 "metadata": {
  "kernelspec": {
   "display_name": "Python 3 (ipykernel)",
   "language": "python",
   "name": "python3"
  },
  "language_info": {
   "codemirror_mode": {
    "name": "ipython",
    "version": 3
   },
   "file_extension": ".py",
   "mimetype": "text/x-python",
   "name": "python",
   "nbconvert_exporter": "python",
   "pygments_lexer": "ipython3",
   "version": "3.9.19"
  }
 },
 "nbformat": 4,
 "nbformat_minor": 5
}
