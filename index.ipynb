{
 "cells": [
  {
   "cell_type": "markdown",
   "id": "fa7d7baf-fd09-48be-b5f7-c9f8f5bfd775",
   "metadata": {
    "jp-MarkdownHeadingCollapsed": true
   },
   "source": [
    "# Recommending Films for Box Office Success!"
   ]
  },
  {
   "cell_type": "markdown",
   "id": "f05ee1b5-447b-44ab-859e-063f3a8eb2d1",
   "metadata": {},
   "source": [
    "![image](https://vip-go.premiumbeat.com/wp-content/uploads/2022/02/vr_2.jpg)\n",
    "\n",
    "*Image by DOP Eben Bolter on the LED volume stage at Rebellion Film Studios in Oxford, UK.*"
   ]
  },
  {
   "cell_type": "markdown",
   "id": "8e0aaca2-cd35-4a62-bc97-35854b804cd3",
   "metadata": {},
   "source": [
    "## Overview"
   ]
  },
  {
   "cell_type": "markdown",
   "id": "d5db37bb-41ff-48a9-b839-abc653c91df0",
   "metadata": {},
   "source": [
    "Our company sees competitors creating original video content and now wants to join the market trend. We create a new film studio despite the lack of knowledge in everything related to movies.\n",
    "\n",
    "As the data scientist of the company, my goal is to explore what types of films are currently performing the best at the box office and with my findings – create actionable insights that the company's new studio can use to decide what type of films to create."
   ]
  },
  {
   "cell_type": "markdown",
   "id": "86bb3d81-bcd6-4771-94ed-24b31bea1301",
   "metadata": {},
   "source": [
    "## Challenge"
   ]
  },
  {
   "cell_type": "markdown",
   "id": "0666e27f-87f1-44fd-aed4-28c7a834eec3",
   "metadata": {},
   "source": [
    "With the task at hand, we will be presenting to our company stakeholders three different recommendations that will directly affect our business revenue. The goal is to provide data-driven direction for our new film studio using evidence that our recommendations will result in truly benefitting the company."
   ]
  },
  {
   "cell_type": "markdown",
   "id": "3a85eb41-71d4-4e02-9175-75cb5ec4ad29",
   "metadata": {},
   "source": [
    "## Datasets"
   ]
  },
  {
   "cell_type": "markdown",
   "id": "b9d8f8ee-0768-475b-9e6b-c69cb83f3af0",
   "metadata": {},
   "source": [
    "In the folder `zippedData`, we have datasets from:\n",
    "\n",
    "- [Box Office Mojo](https://www.boxofficemojo.com/)\n",
    "- [IMDB](https://www.imdb.com/)\n",
    "- [The Numbers](https://www.the-numbers.com/)"
   ]
  },
  {
   "cell_type": "markdown",
   "id": "4ba9b82f-e141-4e63-ba03-f4bc0d6f198c",
   "metadata": {},
   "source": [
    "## Solution"
   ]
  },
  {
   "cell_type": "markdown",
   "id": "9f9f04f1-7149-4635-91bd-34f9f9aa520a",
   "metadata": {
    "scrolled": true
   },
   "source": [
    "This project uses statistical analysis, including formulating three hypotheses of what contributes to a film's success. We infer three different business recommendations and use box-office data to prove our hypotheses and provide statistics as evidence to support our recommendations for the company and the direction for our new film studio."
   ]
  },
  {
   "cell_type": "markdown",
   "id": "b07f7b88-d4ad-4c72-ac8a-0f9a82477f3b",
   "metadata": {},
   "source": [
    "## Results"
   ]
  },
  {
   "cell_type": "markdown",
   "id": "90c628f9-3a7b-4202-8e39-185ef26dca56",
   "metadata": {
    "jp-MarkdownHeadingCollapsed": true
   },
   "source": [
    "# Loading Essentials"
   ]
  },
  {
   "cell_type": "markdown",
   "id": "59c61cac-5336-42da-b9e3-faac3b323d28",
   "metadata": {},
   "source": [
    "## Loading Tools"
   ]
  },
  {
   "cell_type": "markdown",
   "id": "a229fedb-a871-4322-b30d-3215fcd8e6ef",
   "metadata": {},
   "source": [
    "Import our datascience tools."
   ]
  },
  {
   "cell_type": "code",
   "execution_count": null,
   "id": "5ea2390b-1c08-471b-bb29-dce609077193",
   "metadata": {},
   "outputs": [],
   "source": [
    "import itertools\n",
    "import numpy as np\n",
    "import pandas as pd \n",
    "from numbers import Number\n",
    "import sqlite3\n",
    "from scipy import stats\n",
    "import matplotlib.pyplot as plt\n",
    "import seaborn as sns\n",
    "import zipfile\n",
    "import os\n",
    "import warnings\n",
    "warnings.filterwarnings('ignore')\n",
    "plt.style.use('ggplot')\n",
    "pd.set_option('display.max_columns', None)\n",
    "pd.set_option('display.max_rows', 200)\n",
    "pd.set_option('display.float_format', '{:,.2f}'.format)"
   ]
  },
  {
   "cell_type": "markdown",
   "id": "dece57e9-b73b-404c-8130-7e6e000b9f54",
   "metadata": {
    "jp-MarkdownHeadingCollapsed": true
   },
   "source": [
    "## Loading Datasets"
   ]
  },
  {
   "cell_type": "markdown",
   "id": "46106fc2-5cc8-490c-b0be-cef2a3cf2173",
   "metadata": {
    "jp-MarkdownHeadingCollapsed": true
   },
   "source": [
    "### IMdb, SQL Database"
   ]
  },
  {
   "cell_type": "markdown",
   "id": "2982d836-3d17-41e6-bd0d-893b6170303f",
   "metadata": {},
   "source": [
    "IMdb aims to collect any and all data of all films to showcase everyday people."
   ]
  },
  {
   "cell_type": "code",
   "execution_count": null,
   "id": "3870f37b-d4f3-4e3f-ba62-4f351e484085",
   "metadata": {},
   "outputs": [],
   "source": [
    "zip_path = 'zippedData/im.db.zip'\n",
    "extract_path = 'zippedData/'\n",
    "\n",
    "with zipfile.ZipFile(zip_path,'r') as zip_ref:\n",
    "    zip_ref.extractall(extract_path)\n",
    "\n",
    "db_path = os.path.join(extract_path, 'im.db')\n",
    "\n",
    "conn = sqlite3.connect(db_path)\n",
    "pd.read_sql(\"\"\"\n",
    "    SELECT *\n",
    "    FROM sqlite_master\n",
    "    WHERE type = 'table';\n",
    "\"\"\",conn)"
   ]
  },
  {
   "cell_type": "code",
   "execution_count": null,
   "id": "153b59f1-e18c-4257-944a-9a037074e1cc",
   "metadata": {},
   "outputs": [],
   "source": [
    "df_imdb = pd.read_sql(\"\"\"\n",
    "    SELECT *\n",
    "    FROM movie_basics AS mb\n",
    "    INNER JOIN movie_ratings AS mr ON mb.movie_id =mr.movie_id;\n",
    "\"\"\",conn)\n",
    "df_imdb['title'] = df_imdb['primary_title']\n",
    "df_imdb"
   ]
  },
  {
   "cell_type": "markdown",
   "id": "31d339c3-e99f-4830-9878-7906abadc19c",
   "metadata": {
    "jp-MarkdownHeadingCollapsed": true
   },
   "source": [
    "### TheNumbers, CSV"
   ]
  },
  {
   "cell_type": "markdown",
   "id": "d3de223e-7cfd-49ea-bdbb-72e277e6b451",
   "metadata": {},
   "source": [
    "TheNumbers goal is to collect the most accurate details of any film's budgets and revenues."
   ]
  },
  {
   "cell_type": "code",
   "execution_count": null,
   "id": "b5ba7329-2c16-4540-a92b-8b4cdba30319",
   "metadata": {},
   "outputs": [],
   "source": [
    "df_tn_movie_budgets = pd.read_csv('zippedData/tn.movie_budgets.csv.gz')\n",
    "df_tn_movie_budgets['title'] = df_tn_movie_budgets['movie']\n",
    "df_tn_movie_budgets"
   ]
  },
  {
   "cell_type": "markdown",
   "id": "d713d619-bb0b-429a-8443-677b81a3ed41",
   "metadata": {
    "jp-MarkdownHeadingCollapsed": true
   },
   "source": [
    "### Merge Data For Analysis"
   ]
  },
  {
   "cell_type": "markdown",
   "id": "4468f326-cd4d-4e1b-9d13-2c78529be371",
   "metadata": {},
   "source": [
    "Reasons for Combined Data\n",
    "- It was neccessary we `merge` our data from `IMdb` and `TheNumbers` because IMdb is a popular platform that houses all details of films, including genres, ratings, and votes and TheNumbers has reliable information regarding film budgets and revenues across the world.\n",
    "- By combining these two datasets, we couple our data of `films`, `genres`, `ratings`, and `votes` with `financial data` to help us investigate deeper in our analysis."
   ]
  },
  {
   "cell_type": "code",
   "execution_count": null,
   "id": "651490db-9d1b-4bdf-928c-94c3604c6ada",
   "metadata": {},
   "outputs": [],
   "source": [
    "df_box_office = pd.merge(df_imdb, df_tn_movie_budgets, on='title', how='inner')\n",
    "df_box_office"
   ]
  },
  {
   "cell_type": "markdown",
   "id": "a7ec887f-a0a8-4396-817c-d22a54166de8",
   "metadata": {},
   "source": [
    "# Exploratory Data Analysis"
   ]
  },
  {
   "cell_type": "markdown",
   "id": "12b0c617-1558-4828-b817-110e0ed3eecf",
   "metadata": {},
   "source": [
    "## 1. Understanding The Data\n",
    "- Dataframe `shape`\n",
    "- `head` and `tail`\n",
    "- `info`\n",
    "- `describe`"
   ]
  },
  {
   "cell_type": "code",
   "execution_count": null,
   "id": "fc825a54-6993-4993-a191-ff3793a93b7a",
   "metadata": {},
   "outputs": [],
   "source": [
    "df_box_office.head()"
   ]
  },
  {
   "cell_type": "code",
   "execution_count": null,
   "id": "8821db01-74c4-4410-aa1c-a8d95ae03557",
   "metadata": {},
   "outputs": [],
   "source": [
    "df_box_office.shape"
   ]
  },
  {
   "cell_type": "code",
   "execution_count": null,
   "id": "6ed29ef7-8ec6-422c-9b39-06322c73847a",
   "metadata": {},
   "outputs": [],
   "source": [
    "df_box_office.info()"
   ]
  },
  {
   "cell_type": "code",
   "execution_count": null,
   "id": "38696fcc-1b9e-4078-9c73-9019593abeee",
   "metadata": {},
   "outputs": [],
   "source": [
    "df_box_office.describe()"
   ]
  },
  {
   "cell_type": "markdown",
   "id": "3026d05a-32e0-42b5-bddf-78c5d8611e65",
   "metadata": {},
   "source": [
    "## Step 2. Data Preparation\n",
    "- Dropping irrelevant columns and rows\n",
    "- Identifying duplicated columns\n",
    "- Renaming columns\n",
    "- Feature creation"
   ]
  },
  {
   "cell_type": "markdown",
   "id": "8db2f0ca-52c3-4c12-9b04-f489530c95fc",
   "metadata": {},
   "source": [
    "Let's clean up our dataset by `dropping` irrelevant `columns` and `renaming` them to represent the data better."
   ]
  },
  {
   "cell_type": "code",
   "execution_count": null,
   "id": "63706204-6d3d-4e83-ac29-dfc799eb607f",
   "metadata": {},
   "outputs": [],
   "source": [
    "df = df_box_office[[\n",
    "    # 'movie_id', 'original_title', 'start_year', \n",
    "    # 'runtime_minutes', 'movie_id', 'title', 'id', 'movie'\n",
    "    'primary_title',  'genres', 'averagerating', 'numvotes', \n",
    "    'release_date', 'production_budget', 'worldwide_gross' ]]\n",
    "\n",
    "df.rename(columns={ 'primary_title':'film', 'averagerating':'rating', 'numvotes':'votes', \n",
    "                    'release_date':'release', 'production_budget':'budget',\n",
    "                    'worldwide_gross':'revenue' }, inplace=True)\n",
    "\n",
    "df.info()"
   ]
  },
  {
   "cell_type": "markdown",
   "id": "b5e2ffdd-8615-4fc1-a1db-cefffd509b2b",
   "metadata": {},
   "source": [
    "There are some important cleaning we need to do:\n",
    "- Replace `genre` values that are `NaN` with string `'unknown'` if data is missing. This way we are not losing any data even if we don't know the genre.\n",
    "- Convert `release` to pandas `datetime` so that we can do some logical operations over it for deeper investigation.\n",
    "- Convert `budget` and `revenue` into `int` so that we can do logical operations over the data for better analysis.\n",
    "- Normalize `rating` because the feature is directly affected by `votes` which disproportianately affects the true rating."
   ]
  },
  {
   "cell_type": "code",
   "execution_count": null,
   "id": "c10c1a9f-70f7-4a8d-99b3-cc16b6f3358c",
   "metadata": {},
   "outputs": [],
   "source": [
    "df['genres'].fillna('unknown', inplace=True)\n",
    "df.genres"
   ]
  },
  {
   "cell_type": "code",
   "execution_count": null,
   "id": "7736831d-52e6-49c6-9302-fd17b277d968",
   "metadata": {
    "scrolled": true
   },
   "outputs": [],
   "source": [
    "mask = pd.to_datetime(df['release'], format='%b %d, %Y')\n",
    "df['release'] = mask\n",
    "df.release"
   ]
  },
  {
   "cell_type": "code",
   "execution_count": null,
   "id": "c9fe27f3-8035-48d0-90ff-75bceb9697cb",
   "metadata": {
    "scrolled": true
   },
   "outputs": [],
   "source": [
    "mask = df['budget'].str.strip('$').str.replace(',','').astype(float)\n",
    "df['budget'] = mask\n",
    "mask = df['revenue'].str.strip('$').str.replace(',','').astype(float)\n",
    "df['revenue'] = mask\n",
    "df.info()"
   ]
  },
  {
   "cell_type": "code",
   "execution_count": null,
   "id": "5419aafa-1c53-476f-b4da-673df47806d9",
   "metadata": {},
   "outputs": [],
   "source": [
    "df.head()"
   ]
  },
  {
   "cell_type": "markdown",
   "id": "25b925ad-7351-4447-bff2-a765450b7235",
   "metadata": {},
   "source": [
    "We will be creating a `new feature` to represent the `profit` the film made by taking the `difference` between each film's `budget` and `revenue`. This reasons for this new feature is:\n",
    "- The feature `profit` will immediately show us whether a movie resulted in a loss or profit.\n",
    "- We can compare actual `revenue` earned between films for better analysis.\n",
    "- The `profit` will tell us if `budget` plays a role in `revenue` and the film's success."
   ]
  },
  {
   "cell_type": "code",
   "execution_count": null,
   "id": "e7198ca3-72cd-4c78-aced-912abff32a70",
   "metadata": {
    "scrolled": true
   },
   "outputs": [],
   "source": [
    "df['profit'] = df['revenue'] - df['budget']\n",
    "df.tail()"
   ]
  },
  {
   "cell_type": "markdown",
   "id": "766da9ca-cdb8-4486-8045-3c3e415a0188",
   "metadata": {},
   "source": [
    "We have two columns `rating` and `votes` that directly are affected by each other. This makes our analysis a little difficult because films with significantly less votes will affect comparing ratings with films that got a much larger number of votes.\n",
    "\n",
    "For that reason, we created a new feature `weighted_rating` which accurately represents the film rating based on the amounts of votes the film received. This feature has been normalized throughout the data."
   ]
  },
  {
   "cell_type": "code",
   "execution_count": null,
   "id": "6ea0c47b-a8df-498d-8486-72cd8586c07a",
   "metadata": {},
   "outputs": [],
   "source": [
    "C = df['rating'].mean()\n",
    "m = df['votes'].quantile(0.6) # Only considering votes that are greater than the bottom 60%.\n",
    "def weighted_rating(x, m=m, C=C):\n",
    "    v = x['votes']\n",
    "    R = x['rating']\n",
    "    return (v / (v + m) * R) + (m / (v + m) * C)\n",
    "\n",
    "df['weighted_rating'] = df.apply(weighted_rating, axis=1)\n",
    "df[['film', 'rating', 'votes', 'weighted_rating']]"
   ]
  },
  {
   "cell_type": "markdown",
   "id": "6a8f54a9-9eb9-43c7-aa45-713542c5641b",
   "metadata": {},
   "source": [
    "We apply the changes onto our original dataframe `rating` so that we don't add irrelevant features; including dropping `votes` since our rating scale has been weighted with votes."
   ]
  },
  {
   "cell_type": "code",
   "execution_count": null,
   "id": "b50a48e6-5086-4545-b2d0-c3197edfbf98",
   "metadata": {},
   "outputs": [],
   "source": [
    "df['rating'] = df['weighted_rating']\n",
    "df = df[['film', 'genres', 'rating', 'release', 'budget', 'revenue', 'profit', # 'votes'\n",
    "   ]]\n",
    "df"
   ]
  },
  {
   "cell_type": "code",
   "execution_count": null,
   "id": "9b5382f0-91e0-40a2-84c9-559e09aa1ecd",
   "metadata": {},
   "outputs": [],
   "source": []
  }
 ],
 "metadata": {
  "kernelspec": {
   "display_name": "Python (learn-env)",
   "language": "python",
   "name": "learn-env"
  },
  "language_info": {
   "codemirror_mode": {
    "name": "ipython",
    "version": 3
   },
   "file_extension": ".py",
   "mimetype": "text/x-python",
   "name": "python",
   "nbconvert_exporter": "python",
   "pygments_lexer": "ipython3",
   "version": "3.9.19"
  }
 },
 "nbformat": 4,
 "nbformat_minor": 5
}
